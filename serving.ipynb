{
 "cells": [
  {
   "cell_type": "markdown",
   "metadata": {},
   "source": [
    "## Get feature values\n",
    "This notebook shows how feature values can be fetched from the onlione store with the python SDK.  \n",
    "Make sure that the first data sync for each featureview has finished before requesting feature values."
   ]
  },
  {
   "cell_type": "code",
   "execution_count": 1,
   "metadata": {},
   "outputs": [],
   "source": [
    "from google.cloud.aiplatform_v1beta1 import (\n",
    "    FeatureOnlineStoreAdminServiceClient,\n",
    "    FeatureOnlineStoreServiceClient,\n",
    "    NearestNeighborQuery,\n",
    "    SearchNearestEntitiesRequest,\n",
    ")\n",
    "from google.cloud.aiplatform_v1beta1.types import (\n",
    "    feature_online_store_service as feature_online_store_service_pb2,\n",
    ")\n",
    "\n",
    "PROJECT_ID = \"vertex-feature-store\"\n",
    "REGION = \"europe-west4\"\n",
    "FEATUREONLINESTORE = f\"projects/{PROJECT_ID}/locations/{REGION}/featureOnlineStores/example_online_store\"\n",
    "FEATUREVIEW_BASE = f\"{FEATUREONLINESTORE}/featureViews/\"\n",
    "API_ENDPOINT = f\"{REGION}-aiplatform.googleapis.com\""
   ]
  },
  {
   "cell_type": "code",
   "execution_count": 2,
   "metadata": {},
   "outputs": [],
   "source": [
    "admin_client = FeatureOnlineStoreAdminServiceClient(\n",
    "    client_options={\"api_endpoint\": API_ENDPOINT}\n",
    ")\n",
    "PUBLIC_ENDPOINT = admin_client.get_feature_online_store(\n",
    "    name=FEATUREONLINESTORE\n",
    ").dedicated_serving_endpoint.public_endpoint_domain_name"
   ]
  },
  {
   "cell_type": "code",
   "execution_count": 3,
   "metadata": {},
   "outputs": [],
   "source": [
    "def sync_is_done(feature_view: str):\n",
    "    \"\"\"Check if at least one sync for the feature view has finished.\"\"\"\n",
    "    finished_syncs = [\n",
    "        s\n",
    "        for s in admin_client.list_feature_view_syncs(parent=feature_view)\n",
    "        if s.run_time.HasField(\"end_time\")\n",
    "    ]\n",
    "    if not finished_syncs:\n",
    "        print(\"No finished syncs found.\")\n",
    "        return False\n",
    "    return True"
   ]
  },
  {
   "cell_type": "markdown",
   "metadata": {},
   "source": [
    "### Retrieve feature values by entity ID"
   ]
  },
  {
   "cell_type": "code",
   "execution_count": 4,
   "metadata": {},
   "outputs": [],
   "source": [
    "def get_feature_values_by_id(feature_view: str, entitiy_id: str):\n",
    "    data_client = FeatureOnlineStoreServiceClient(\n",
    "        client_options={\"api_endpoint\": API_ENDPOINT}\n",
    "    )\n",
    "    if not sync_is_done(feature_view):\n",
    "        raise ValueError(\n",
    "            \"No data available for the feature view yet. Please wait for the first sync to finish.\"\n",
    "        )\n",
    "\n",
    "    return data_client.fetch_feature_values(\n",
    "        feature_online_store_service_pb2.FetchFeatureValuesRequest(\n",
    "            id=entitiy_id,\n",
    "            feature_view=feature_view,\n",
    "        )\n",
    "    )"
   ]
  },
  {
   "cell_type": "code",
   "execution_count": 5,
   "metadata": {},
   "outputs": [
    {
     "name": "stdout",
     "output_type": "stream",
     "text": [
      "key_values {\n",
      "  features {\n",
      "    value {\n",
      "      int64_value: 1720105561738302\n",
      "    }\n",
      "    name: \"feature_timestamp\"\n",
      "  }\n",
      "  features {\n",
      "    value {\n",
      "      string_value: \"user1\"\n",
      "    }\n",
      "    name: \"username\"\n",
      "  }\n",
      "  features {\n",
      "    value {\n",
      "      string_value: \"user1@gmail.com\"\n",
      "    }\n",
      "    name: \"email\"\n",
      "  }\n",
      "  features {\n",
      "    value {\n",
      "      int64_value: 25\n",
      "    }\n",
      "    name: \"age\"\n",
      "  }\n",
      "  features {\n",
      "    value {\n",
      "      string_value: \"M\"\n",
      "    }\n",
      "    name: \"gender\"\n",
      "  }\n",
      "}\n",
      "\n"
     ]
    }
   ],
   "source": [
    "feature_view_name = \"user_featureview\"\n",
    "entity_id = \"1\"\n",
    "\n",
    "response = get_feature_values_by_id(f\"{FEATUREVIEW_BASE}{feature_view_name}\", entity_id)\n",
    "print(response)"
   ]
  },
  {
   "cell_type": "code",
   "execution_count": 6,
   "metadata": {},
   "outputs": [
    {
     "name": "stdout",
     "output_type": "stream",
     "text": [
      "key_values {\n",
      "  features {\n",
      "    value {\n",
      "      int64_value: 1720105561224594\n",
      "    }\n",
      "    name: \"feature_timestamp\"\n",
      "  }\n",
      "  features {\n",
      "    value {\n",
      "      int64_value: 1\n",
      "    }\n",
      "    name: \"num_rating_90d\"\n",
      "  }\n",
      "  features {\n",
      "    value {\n",
      "      double_value: 4\n",
      "    }\n",
      "    name: \"avg_rating_90d\"\n",
      "  }\n",
      "}\n",
      "\n"
     ]
    }
   ],
   "source": [
    "feature_view_name = \"user_rating_featureview\"\n",
    "entity_id = \"5\"\n",
    "\n",
    "response = get_feature_values_by_id(f\"{FEATUREVIEW_BASE}{feature_view_name}\", entity_id)\n",
    "print(response)"
   ]
  },
  {
   "cell_type": "markdown",
   "metadata": {},
   "source": [
    "### Search with embedding nearest neighbor\n",
    "\n",
    "By entity ID\n"
   ]
  },
  {
   "cell_type": "code",
   "execution_count": 7,
   "metadata": {},
   "outputs": [],
   "source": [
    "def get_neighbors_by_id(feature_view: str, entitiy_id: str, k: int):\n",
    "    # NOTE: the client uses the public endpoint here\n",
    "    data_client = FeatureOnlineStoreServiceClient(\n",
    "        client_options={\"api_endpoint\": PUBLIC_ENDPOINT}\n",
    "    )\n",
    "    if not sync_is_done(feature_view):\n",
    "        raise ValueError(\n",
    "            \"No data available for the feature view yet. Please wait for the first sync to finish.\"\n",
    "        )\n",
    "\n",
    "    query = NearestNeighborQuery(entity_id=entitiy_id, neighbor_count=k)\n",
    "\n",
    "    request = SearchNearestEntitiesRequest(feature_view=feature_view, query=query)\n",
    "    return data_client.search_nearest_entities(request=request)"
   ]
  },
  {
   "cell_type": "code",
   "execution_count": 8,
   "metadata": {},
   "outputs": [
    {
     "name": "stdout",
     "output_type": "stream",
     "text": [
      "nearest_neighbors {\n",
      "  neighbors {\n",
      "    entity_id: \"1\"\n",
      "    distance: -0.99999988079071045\n",
      "  }\n",
      "  neighbors {\n",
      "    entity_id: \"24\"\n",
      "    distance: -0.55016779899597168\n",
      "  }\n",
      "  neighbors {\n",
      "    entity_id: \"8\"\n",
      "    distance: -0.54250270128250122\n",
      "  }\n",
      "}\n",
      "\n"
     ]
    }
   ],
   "source": [
    "feature_view_name = \"movie_embedding_featureview\"\n",
    "feature_view = f\"{FEATUREVIEW_BASE}{feature_view_name}\"\n",
    "embedding_dim = 1536\n",
    "\n",
    "neighbors = get_neighbors_by_id(feature_view, \"1\", k=3)\n",
    "print(neighbors)"
   ]
  },
  {
   "cell_type": "markdown",
   "metadata": {},
   "source": [
    "By embedding"
   ]
  },
  {
   "cell_type": "code",
   "execution_count": 9,
   "metadata": {},
   "outputs": [],
   "source": [
    "def get_neighbors_by_embedding(feature_view: str, embedding: list[float], k: int):\n",
    "    data_client = FeatureOnlineStoreServiceClient(\n",
    "        client_options={\"api_endpoint\": PUBLIC_ENDPOINT}\n",
    "    )\n",
    "    if not sync_is_done(feature_view):\n",
    "        raise ValueError(\n",
    "            \"No data available for the feature view yet. Please wait for the first sync to finish.\"\n",
    "        )\n",
    "    \n",
    "    query = NearestNeighborQuery(\n",
    "        embedding=NearestNeighborQuery.Embedding(value=embedding), neighbor_count=k\n",
    "    )\n",
    "    request = SearchNearestEntitiesRequest(feature_view=feature_view, query=query)\n",
    "    return data_client.search_nearest_entities(request=request)"
   ]
  },
  {
   "cell_type": "code",
   "execution_count": 10,
   "metadata": {},
   "outputs": [
    {
     "name": "stdout",
     "output_type": "stream",
     "text": [
      "nearest_neighbors {\n",
      "  neighbors {\n",
      "    entity_id: \"3\"\n",
      "    distance: -0.20326116681098938\n",
      "  }\n",
      "  neighbors {\n",
      "    entity_id: \"27\"\n",
      "    distance: -0.19727082550525665\n",
      "  }\n",
      "  neighbors {\n",
      "    entity_id: \"2\"\n",
      "    distance: -0.19693556427955627\n",
      "  }\n",
      "}\n",
      "\n"
     ]
    }
   ],
   "source": [
    "neighbors = get_neighbors_by_embedding(feature_view, [0.1] * embedding_dim, k=3)\n",
    "print(neighbors)"
   ]
  }
 ],
 "metadata": {
  "kernelspec": {
   "display_name": "Python 3",
   "language": "python",
   "name": "python3"
  },
  "language_info": {
   "codemirror_mode": {
    "name": "ipython",
    "version": 3
   },
   "file_extension": ".py",
   "mimetype": "text/x-python",
   "name": "python",
   "nbconvert_exporter": "python",
   "pygments_lexer": "ipython3",
   "version": "3.11.5"
  }
 },
 "nbformat": 4,
 "nbformat_minor": 2
}
