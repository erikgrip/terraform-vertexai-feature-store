{
 "cells": [
  {
   "cell_type": "markdown",
   "metadata": {},
   "source": [
    "## Get feature values\n",
    "\n",
    "Make sure that the first data sync for each featureview has finished before requesting feature values."
   ]
  },
  {
   "cell_type": "code",
   "execution_count": 1,
   "metadata": {},
   "outputs": [],
   "source": [
    "from google.cloud.aiplatform_v1beta1 import (\n",
    "    FeatureOnlineStoreAdminServiceClient,\n",
    "    FeatureOnlineStoreServiceClient,\n",
    "    NearestNeighborQuery,\n",
    "    SearchNearestEntitiesRequest,\n",
    ")\n",
    "from google.cloud.aiplatform_v1beta1.types import (\n",
    "    feature_online_store_service as feature_online_store_service_pb2,\n",
    ")\n",
    "\n",
    "PROJECT_ID = \"vertex-feature-store\"\n",
    "PROJECT_NUMBER = \"208794590551\"\n",
    "REGION = \"europe-west4\"\n",
    "FEATUREONLINESTORE_NAME = \"example_online_store\"\n",
    "FEATUREONLINESTORE = f\"projects/{PROJECT_ID}/locations/{REGION}/featureOnlineStores/{FEATUREONLINESTORE_NAME}\"\n",
    "FEATUREVIEW_BASE = f\"{FEATUREONLINESTORE}/featureViews/\"\n",
    "API_ENDPOINT = f\"{REGION}-aiplatform.googleapis.com\""
   ]
  },
  {
   "cell_type": "code",
   "execution_count": 2,
   "metadata": {},
   "outputs": [],
   "source": [
    "admin_client = FeatureOnlineStoreAdminServiceClient(\n",
    "    client_options={\"api_endpoint\": API_ENDPOINT}\n",
    ")\n",
    "PUBLIC_ENDPOINT = admin_client.get_feature_online_store(\n",
    "    name=FEATUREONLINESTORE\n",
    ").dedicated_serving_endpoint.public_endpoint_domain_name"
   ]
  },
  {
   "cell_type": "markdown",
   "metadata": {},
   "source": [
    "### Retrieve feature values by entity ID"
   ]
  },
  {
   "cell_type": "code",
   "execution_count": 5,
   "metadata": {},
   "outputs": [],
   "source": [
    "def get_feature_values_by_id(feature_view: str, entitiy_id: str):\n",
    "    data_client = FeatureOnlineStoreServiceClient(\n",
    "        client_options={\"api_endpoint\": API_ENDPOINT}\n",
    "    )\n",
    "    return data_client.fetch_feature_values(\n",
    "        feature_online_store_service_pb2.FetchFeatureValuesRequest(\n",
    "            id=entitiy_id,\n",
    "            feature_view=feature_view,\n",
    "        )\n",
    "    )"
   ]
  },
  {
   "cell_type": "code",
   "execution_count": 9,
   "metadata": {},
   "outputs": [
    {
     "name": "stdout",
     "output_type": "stream",
     "text": [
      "key_values {\n",
      "  features {\n",
      "    value {\n",
      "      int64_value: 1720101661509420\n",
      "    }\n",
      "    name: \"feature_timestamp\"\n",
      "  }\n",
      "  features {\n",
      "    value {\n",
      "      string_value: \"user1\"\n",
      "    }\n",
      "    name: \"username\"\n",
      "  }\n",
      "  features {\n",
      "    value {\n",
      "      string_value: \"user1@gmail.com\"\n",
      "    }\n",
      "    name: \"email\"\n",
      "  }\n",
      "  features {\n",
      "    value {\n",
      "      int64_value: 25\n",
      "    }\n",
      "    name: \"age\"\n",
      "  }\n",
      "  features {\n",
      "    value {\n",
      "      string_value: \"M\"\n",
      "    }\n",
      "    name: \"gender\"\n",
      "  }\n",
      "}\n",
      "\n"
     ]
    }
   ],
   "source": [
    "feature_view_name = \"user_featureview\"\n",
    "entity_id = \"1\"\n",
    "\n",
    "response = get_feature_values_by_id(f\"{FEATUREVIEW_BASE}{feature_view_name}\", entity_id)\n",
    "print(response)"
   ]
  },
  {
   "cell_type": "code",
   "execution_count": 10,
   "metadata": {},
   "outputs": [
    {
     "name": "stdout",
     "output_type": "stream",
     "text": [
      "key_values {\n",
      "  features {\n",
      "    value {\n",
      "      int64_value: 1720101661357946\n",
      "    }\n",
      "    name: \"feature_timestamp\"\n",
      "  }\n",
      "  features {\n",
      "    value {\n",
      "      double_value: 4\n",
      "    }\n",
      "    name: \"avg_rating_90d\"\n",
      "  }\n",
      "  features {\n",
      "    value {\n",
      "      int64_value: 1\n",
      "    }\n",
      "    name: \"num_rating_90d\"\n",
      "  }\n",
      "}\n",
      "\n"
     ]
    }
   ],
   "source": [
    "feature_view_name = \"user_rating_featureview\"\n",
    "entity_id = \"5\"\n",
    "\n",
    "response = get_feature_values_by_id(f\"{FEATUREVIEW_BASE}{feature_view_name}\", entity_id)\n",
    "print(response)"
   ]
  },
  {
   "cell_type": "markdown",
   "metadata": {},
   "source": [
    "### Search with embedding nearest neighbor\n",
    "\n",
    "By entity ID\n"
   ]
  },
  {
   "cell_type": "code",
   "execution_count": 11,
   "metadata": {},
   "outputs": [],
   "source": [
    "def get_neighbors_by_id(feature_view: str, entitiy_id: str, k: int):\n",
    "    # NOTE: the client uses the public endpoint here\n",
    "    data_client = FeatureOnlineStoreServiceClient(\n",
    "        client_options={\"api_endpoint\": PUBLIC_ENDPOINT}\n",
    "    )\n",
    "\n",
    "    query = NearestNeighborQuery(entity_id=entitiy_id, neighbor_count=k)\n",
    "\n",
    "    request = SearchNearestEntitiesRequest(feature_view=feature_view, query=query)\n",
    "    return data_client.search_nearest_entities(request=request)"
   ]
  },
  {
   "cell_type": "code",
   "execution_count": 12,
   "metadata": {},
   "outputs": [
    {
     "ename": "ServiceUnavailable",
     "evalue": "503 failed to connect to all addresses; last error: UNAVAILABLE: ipv4:35.190.19.65:443: Socket closed",
     "output_type": "error",
     "traceback": [
      "\u001b[0;31m---------------------------------------------------------------------------\u001b[0m",
      "\u001b[0;31m_InactiveRpcError\u001b[0m                         Traceback (most recent call last)",
      "File \u001b[0;32m~/proj/terraform-vertexai-feature-store/.venv/lib/python3.11/site-packages/google/api_core/grpc_helpers.py:76\u001b[0m, in \u001b[0;36m_wrap_unary_errors.<locals>.error_remapped_callable\u001b[0;34m(*args, **kwargs)\u001b[0m\n\u001b[1;32m     75\u001b[0m \u001b[38;5;28;01mtry\u001b[39;00m:\n\u001b[0;32m---> 76\u001b[0m     \u001b[38;5;28;01mreturn\u001b[39;00m \u001b[43mcallable_\u001b[49m\u001b[43m(\u001b[49m\u001b[38;5;241;43m*\u001b[39;49m\u001b[43margs\u001b[49m\u001b[43m,\u001b[49m\u001b[43m \u001b[49m\u001b[38;5;241;43m*\u001b[39;49m\u001b[38;5;241;43m*\u001b[39;49m\u001b[43mkwargs\u001b[49m\u001b[43m)\u001b[49m\n\u001b[1;32m     77\u001b[0m \u001b[38;5;28;01mexcept\u001b[39;00m grpc\u001b[38;5;241m.\u001b[39mRpcError \u001b[38;5;28;01mas\u001b[39;00m exc:\n",
      "File \u001b[0;32m~/proj/terraform-vertexai-feature-store/.venv/lib/python3.11/site-packages/grpc/_channel.py:1181\u001b[0m, in \u001b[0;36m_UnaryUnaryMultiCallable.__call__\u001b[0;34m(self, request, timeout, metadata, credentials, wait_for_ready, compression)\u001b[0m\n\u001b[1;32m   1175\u001b[0m (\n\u001b[1;32m   1176\u001b[0m     state,\n\u001b[1;32m   1177\u001b[0m     call,\n\u001b[1;32m   1178\u001b[0m ) \u001b[38;5;241m=\u001b[39m \u001b[38;5;28mself\u001b[39m\u001b[38;5;241m.\u001b[39m_blocking(\n\u001b[1;32m   1179\u001b[0m     request, timeout, metadata, credentials, wait_for_ready, compression\n\u001b[1;32m   1180\u001b[0m )\n\u001b[0;32m-> 1181\u001b[0m \u001b[38;5;28;01mreturn\u001b[39;00m \u001b[43m_end_unary_response_blocking\u001b[49m\u001b[43m(\u001b[49m\u001b[43mstate\u001b[49m\u001b[43m,\u001b[49m\u001b[43m \u001b[49m\u001b[43mcall\u001b[49m\u001b[43m,\u001b[49m\u001b[43m \u001b[49m\u001b[38;5;28;43;01mFalse\u001b[39;49;00m\u001b[43m,\u001b[49m\u001b[43m \u001b[49m\u001b[38;5;28;43;01mNone\u001b[39;49;00m\u001b[43m)\u001b[49m\n",
      "File \u001b[0;32m~/proj/terraform-vertexai-feature-store/.venv/lib/python3.11/site-packages/grpc/_channel.py:1006\u001b[0m, in \u001b[0;36m_end_unary_response_blocking\u001b[0;34m(state, call, with_call, deadline)\u001b[0m\n\u001b[1;32m   1005\u001b[0m \u001b[38;5;28;01melse\u001b[39;00m:\n\u001b[0;32m-> 1006\u001b[0m     \u001b[38;5;28;01mraise\u001b[39;00m _InactiveRpcError(state)\n",
      "\u001b[0;31m_InactiveRpcError\u001b[0m: <_InactiveRpcError of RPC that terminated with:\n\tstatus = StatusCode.UNAVAILABLE\n\tdetails = \"failed to connect to all addresses; last error: UNAVAILABLE: ipv4:35.190.19.65:443: Socket closed\"\n\tdebug_error_string = \"UNKNOWN:Error received from peer  {grpc_message:\"failed to connect to all addresses; last error: UNAVAILABLE: ipv4:35.190.19.65:443: Socket closed\", grpc_status:14, created_time:\"2024-07-04T16:02:32.411997066+02:00\"}\"\n>",
      "\nThe above exception was the direct cause of the following exception:\n",
      "\u001b[0;31mServiceUnavailable\u001b[0m                        Traceback (most recent call last)",
      "Cell \u001b[0;32mIn[12], line 5\u001b[0m\n\u001b[1;32m      2\u001b[0m feature_view \u001b[38;5;241m=\u001b[39m \u001b[38;5;124mf\u001b[39m\u001b[38;5;124m\"\u001b[39m\u001b[38;5;132;01m{\u001b[39;00mFEATUREVIEW_BASE\u001b[38;5;132;01m}\u001b[39;00m\u001b[38;5;132;01m{\u001b[39;00mfeature_view_name\u001b[38;5;132;01m}\u001b[39;00m\u001b[38;5;124m\"\u001b[39m\n\u001b[1;32m      3\u001b[0m embedding_dim \u001b[38;5;241m=\u001b[39m \u001b[38;5;241m1536\u001b[39m\n\u001b[0;32m----> 5\u001b[0m neighbors \u001b[38;5;241m=\u001b[39m \u001b[43mget_neighbors_by_id\u001b[49m\u001b[43m(\u001b[49m\u001b[43mfeature_view\u001b[49m\u001b[43m,\u001b[49m\u001b[43m \u001b[49m\u001b[38;5;124;43m\"\u001b[39;49m\u001b[38;5;124;43m1\u001b[39;49m\u001b[38;5;124;43m\"\u001b[39;49m\u001b[43m,\u001b[49m\u001b[43m \u001b[49m\u001b[43mk\u001b[49m\u001b[38;5;241;43m=\u001b[39;49m\u001b[38;5;241;43m3\u001b[39;49m\u001b[43m)\u001b[49m\n\u001b[1;32m      6\u001b[0m \u001b[38;5;28mprint\u001b[39m(neighbors)\n",
      "Cell \u001b[0;32mIn[11], line 10\u001b[0m, in \u001b[0;36mget_neighbors_by_id\u001b[0;34m(feature_view, entitiy_id, k)\u001b[0m\n\u001b[1;32m      7\u001b[0m query \u001b[38;5;241m=\u001b[39m NearestNeighborQuery(entity_id\u001b[38;5;241m=\u001b[39mentitiy_id, neighbor_count\u001b[38;5;241m=\u001b[39mk)\n\u001b[1;32m      9\u001b[0m request \u001b[38;5;241m=\u001b[39m SearchNearestEntitiesRequest(feature_view\u001b[38;5;241m=\u001b[39mfeature_view, query\u001b[38;5;241m=\u001b[39mquery)\n\u001b[0;32m---> 10\u001b[0m \u001b[38;5;28;01mreturn\u001b[39;00m \u001b[43mdata_client\u001b[49m\u001b[38;5;241;43m.\u001b[39;49m\u001b[43msearch_nearest_entities\u001b[49m\u001b[43m(\u001b[49m\u001b[43mrequest\u001b[49m\u001b[38;5;241;43m=\u001b[39;49m\u001b[43mrequest\u001b[49m\u001b[43m)\u001b[49m\n",
      "File \u001b[0;32m~/proj/terraform-vertexai-feature-store/.venv/lib/python3.11/site-packages/google/cloud/aiplatform_v1beta1/services/feature_online_store_service/client.py:1002\u001b[0m, in \u001b[0;36mFeatureOnlineStoreServiceClient.search_nearest_entities\u001b[0;34m(self, request, retry, timeout, metadata)\u001b[0m\n\u001b[1;32m    999\u001b[0m \u001b[38;5;28mself\u001b[39m\u001b[38;5;241m.\u001b[39m_validate_universe_domain()\n\u001b[1;32m   1001\u001b[0m \u001b[38;5;66;03m# Send the request.\u001b[39;00m\n\u001b[0;32m-> 1002\u001b[0m response \u001b[38;5;241m=\u001b[39m \u001b[43mrpc\u001b[49m\u001b[43m(\u001b[49m\n\u001b[1;32m   1003\u001b[0m \u001b[43m    \u001b[49m\u001b[43mrequest\u001b[49m\u001b[43m,\u001b[49m\n\u001b[1;32m   1004\u001b[0m \u001b[43m    \u001b[49m\u001b[43mretry\u001b[49m\u001b[38;5;241;43m=\u001b[39;49m\u001b[43mretry\u001b[49m\u001b[43m,\u001b[49m\n\u001b[1;32m   1005\u001b[0m \u001b[43m    \u001b[49m\u001b[43mtimeout\u001b[49m\u001b[38;5;241;43m=\u001b[39;49m\u001b[43mtimeout\u001b[49m\u001b[43m,\u001b[49m\n\u001b[1;32m   1006\u001b[0m \u001b[43m    \u001b[49m\u001b[43mmetadata\u001b[49m\u001b[38;5;241;43m=\u001b[39;49m\u001b[43mmetadata\u001b[49m\u001b[43m,\u001b[49m\n\u001b[1;32m   1007\u001b[0m \u001b[43m\u001b[49m\u001b[43m)\u001b[49m\n\u001b[1;32m   1009\u001b[0m \u001b[38;5;66;03m# Done; return the response.\u001b[39;00m\n\u001b[1;32m   1010\u001b[0m \u001b[38;5;28;01mreturn\u001b[39;00m response\n",
      "File \u001b[0;32m~/proj/terraform-vertexai-feature-store/.venv/lib/python3.11/site-packages/google/api_core/gapic_v1/method.py:131\u001b[0m, in \u001b[0;36m_GapicCallable.__call__\u001b[0;34m(self, timeout, retry, compression, *args, **kwargs)\u001b[0m\n\u001b[1;32m    128\u001b[0m \u001b[38;5;28;01mif\u001b[39;00m \u001b[38;5;28mself\u001b[39m\u001b[38;5;241m.\u001b[39m_compression \u001b[38;5;129;01mis\u001b[39;00m \u001b[38;5;129;01mnot\u001b[39;00m \u001b[38;5;28;01mNone\u001b[39;00m:\n\u001b[1;32m    129\u001b[0m     kwargs[\u001b[38;5;124m\"\u001b[39m\u001b[38;5;124mcompression\u001b[39m\u001b[38;5;124m\"\u001b[39m] \u001b[38;5;241m=\u001b[39m compression\n\u001b[0;32m--> 131\u001b[0m \u001b[38;5;28;01mreturn\u001b[39;00m \u001b[43mwrapped_func\u001b[49m\u001b[43m(\u001b[49m\u001b[38;5;241;43m*\u001b[39;49m\u001b[43margs\u001b[49m\u001b[43m,\u001b[49m\u001b[43m \u001b[49m\u001b[38;5;241;43m*\u001b[39;49m\u001b[38;5;241;43m*\u001b[39;49m\u001b[43mkwargs\u001b[49m\u001b[43m)\u001b[49m\n",
      "File \u001b[0;32m~/proj/terraform-vertexai-feature-store/.venv/lib/python3.11/site-packages/google/api_core/grpc_helpers.py:78\u001b[0m, in \u001b[0;36m_wrap_unary_errors.<locals>.error_remapped_callable\u001b[0;34m(*args, **kwargs)\u001b[0m\n\u001b[1;32m     76\u001b[0m     \u001b[38;5;28;01mreturn\u001b[39;00m callable_(\u001b[38;5;241m*\u001b[39margs, \u001b[38;5;241m*\u001b[39m\u001b[38;5;241m*\u001b[39mkwargs)\n\u001b[1;32m     77\u001b[0m \u001b[38;5;28;01mexcept\u001b[39;00m grpc\u001b[38;5;241m.\u001b[39mRpcError \u001b[38;5;28;01mas\u001b[39;00m exc:\n\u001b[0;32m---> 78\u001b[0m     \u001b[38;5;28;01mraise\u001b[39;00m exceptions\u001b[38;5;241m.\u001b[39mfrom_grpc_error(exc) \u001b[38;5;28;01mfrom\u001b[39;00m \u001b[38;5;21;01mexc\u001b[39;00m\n",
      "\u001b[0;31mServiceUnavailable\u001b[0m: 503 failed to connect to all addresses; last error: UNAVAILABLE: ipv4:35.190.19.65:443: Socket closed"
     ]
    }
   ],
   "source": [
    "feature_view_name = \"movie_embedding_featureview\"\n",
    "feature_view = f\"{FEATUREVIEW_BASE}{feature_view_name}\"\n",
    "embedding_dim = 1536\n",
    "\n",
    "neighbors = get_neighbors_by_id(feature_view, \"1\", k=3)\n",
    "print(neighbors)"
   ]
  },
  {
   "cell_type": "markdown",
   "metadata": {},
   "source": [
    "By embedding"
   ]
  },
  {
   "cell_type": "code",
   "execution_count": 41,
   "metadata": {},
   "outputs": [],
   "source": [
    "def get_neighbors_by_embedding(feature_view: str, embedding: list[float], k: int):\n",
    "    data_client = FeatureOnlineStoreServiceClient(\n",
    "        client_options={\"api_endpoint\": PUBLIC_ENDPOINT}\n",
    "    )\n",
    "    query = NearestNeighborQuery(\n",
    "        embedding=NearestNeighborQuery.Embedding(value=embedding), neighbor_count=k\n",
    "    )\n",
    "    request = SearchNearestEntitiesRequest(feature_view=feature_view, query=query)\n",
    "    return data_client.search_nearest_entities(request=request)"
   ]
  },
  {
   "cell_type": "code",
   "execution_count": 40,
   "metadata": {},
   "outputs": [
    {
     "name": "stdout",
     "output_type": "stream",
     "text": [
      "nearest_neighbors {\n",
      "  neighbors {\n",
      "    entity_id: \"3\"\n",
      "    distance: -0.20326116681098938\n",
      "  }\n",
      "  neighbors {\n",
      "    entity_id: \"27\"\n",
      "    distance: -0.19727082550525665\n",
      "  }\n",
      "  neighbors {\n",
      "    entity_id: \"2\"\n",
      "    distance: -0.19693556427955627\n",
      "  }\n",
      "}\n",
      "\n"
     ]
    }
   ],
   "source": [
    "neighbors = get_neighbors_by_embedding(feature_view, [0.1] * embedding_dim, k=3)\n",
    "print(neighbors)"
   ]
  }
 ],
 "metadata": {
  "kernelspec": {
   "display_name": "Python 3",
   "language": "python",
   "name": "python3"
  },
  "language_info": {
   "codemirror_mode": {
    "name": "ipython",
    "version": 3
   },
   "file_extension": ".py",
   "mimetype": "text/x-python",
   "name": "python",
   "nbconvert_exporter": "python",
   "pygments_lexer": "ipython3",
   "version": "3.11.5"
  }
 },
 "nbformat": 4,
 "nbformat_minor": 2
}
